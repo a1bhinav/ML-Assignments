{
  "nbformat": 4,
  "nbformat_minor": 0,
  "metadata": {
    "colab": {
      "name": "ML-assignment1.ipynb",
      "provenance": [],
      "collapsed_sections": [],
      "toc_visible": true
    },
    "kernelspec": {
      "name": "python3",
      "display_name": "Python 3"
    }
  },
  "cells": [
    {
      "cell_type": "markdown",
      "metadata": {
        "id": "RKiJI7FiFnLo"
      },
      "source": [
        "Part 1:"
      ]
    },
    {
      "cell_type": "code",
      "metadata": {
        "id": "suq2w60kFvJG"
      },
      "source": [
        "import numpy as np"
      ],
      "execution_count": null,
      "outputs": []
    },
    {
      "cell_type": "markdown",
      "metadata": {
        "id": "EXgdyWDMFq8G"
      },
      "source": [
        "Question 1:"
      ]
    },
    {
      "cell_type": "code",
      "metadata": {
        "id": "cKKNR70UHoDR",
        "outputId": "c95252f9-0b74-4b2e-ec4c-ea24263a7bf8",
        "colab": {
          "base_uri": "https://localhost:8080/",
          "height": 118
        }
      },
      "source": [
        "arr = np.zeros(10, dtype = int)\n",
        "print(\"Array of 10 zeroes: \")\n",
        "print(arr)\n",
        "\n",
        "arr = np.ones(10, dtype= int)\n",
        "print(\"Array of 10 ones: \")\n",
        "print(arr)\n",
        "\n",
        "arr = arr * 5 # matrix multiplication operation\n",
        "print(\"Array of 10 fives: \")\n",
        "print(arr)"
      ],
      "execution_count": null,
      "outputs": [
        {
          "output_type": "stream",
          "text": [
            "Array of 10 zeroes: \n",
            "[0 0 0 0 0 0 0 0 0 0]\n",
            "Array of 10 ones: \n",
            "[1 1 1 1 1 1 1 1 1 1]\n",
            "Array of 10 fives: \n",
            "[5 5 5 5 5 5 5 5 5 5]\n"
          ],
          "name": "stdout"
        }
      ]
    },
    {
      "cell_type": "markdown",
      "metadata": {
        "id": "GVqnMu04KdMj"
      },
      "source": [
        "question 2:"
      ]
    },
    {
      "cell_type": "code",
      "metadata": {
        "id": "W3AQzFfGKesn",
        "outputId": "2ed7f5ae-11f8-47d9-a474-5169396f3f10",
        "colab": {
          "base_uri": "https://localhost:8080/",
          "height": 67
        }
      },
      "source": [
        "arr = np.arange(10, 51, 2, dtype = int)\n",
        "print(\"An array of even numbers from 10 to 50: \\n\")\n",
        "print(arr)"
      ],
      "execution_count": null,
      "outputs": [
        {
          "output_type": "stream",
          "text": [
            "An array of even numbers from 10 to 50: \n",
            "\n",
            "[10 12 14 16 18 20 22 24 26 28 30 32 34 36 38 40 42 44 46 48 50]\n"
          ],
          "name": "stdout"
        }
      ]
    },
    {
      "cell_type": "markdown",
      "metadata": {
        "id": "hoVEMvIELH75"
      },
      "source": [
        "question 3:"
      ]
    },
    {
      "cell_type": "code",
      "metadata": {
        "id": "VOwRH1XYLJon",
        "outputId": "2a79b518-5d87-4f38-d7c9-61f5d819230a",
        "colab": {
          "base_uri": "https://localhost:8080/",
          "height": 168
        }
      },
      "source": [
        "rand_val = np.random.rand()\n",
        "print(\"Randomly* generated value between 0 and 1: \\n\")\n",
        "print(rand_val)\n",
        "\n",
        "# generating a 3 * 5 matrix of random value between 0 and 1\n",
        "rand_arr = np.random.rand(3,3)\n",
        "print(\"\\na matrix consisting of random values between 0 and 1: \\n\")\n",
        "print(rand_arr)"
      ],
      "execution_count": null,
      "outputs": [
        {
          "output_type": "stream",
          "text": [
            "Randomly* generated value between 0 and 1: \n",
            "\n",
            "0.022916974234777343\n",
            "\n",
            "a matrix consisting of random values between 0 and 1: \n",
            "\n",
            "[[0.14592428 0.9724816  0.20715234]\n",
            " [0.24842958 0.91983072 0.14688253]\n",
            " [0.24956248 0.23327253 0.19178245]]\n"
          ],
          "name": "stdout"
        }
      ]
    },
    {
      "cell_type": "markdown",
      "metadata": {
        "id": "nttZlS53N4uB"
      },
      "source": [
        "question 4:"
      ]
    },
    {
      "cell_type": "code",
      "metadata": {
        "id": "GHZO9tPvN6KP",
        "outputId": "3f6436ea-dcef-459a-851e-94d5014156bc",
        "colab": {
          "base_uri": "https://localhost:8080/",
          "height": 118
        }
      },
      "source": [
        "np.savetxt('matrix.txt', rand_arr, delimiter=',')\n",
        "f = open(\"matrix.txt\", \"r\")\n",
        "print(\"Matrix stored in the text file is: \\n\")\n",
        "print(f.read())"
      ],
      "execution_count": null,
      "outputs": [
        {
          "output_type": "stream",
          "text": [
            "Matrix stored in the text file is: \n",
            "\n",
            "1.459242830197350349e-01,9.724815994443970490e-01,2.071523356399611604e-01\n",
            "2.484295823888840182e-01,9.198307162464584019e-01,1.468825257732720990e-01\n",
            "2.495624768487589851e-01,2.332725287258595737e-01,1.917824475382218230e-01\n",
            "\n"
          ],
          "name": "stdout"
        }
      ]
    },
    {
      "cell_type": "markdown",
      "metadata": {
        "id": "FpIS7ikIQP2Z"
      },
      "source": [
        "Part 2:"
      ]
    },
    {
      "cell_type": "markdown",
      "metadata": {
        "id": "tL4UJr7CQR7S"
      },
      "source": [
        "question 1:"
      ]
    },
    {
      "cell_type": "code",
      "metadata": {
        "id": "kRNfZzwagQnW"
      },
      "source": [
        "import pandas as pd\n",
        "import numpy as np\n",
        "from PIL import Image\n",
        "f = Image.open(\"image.jpg\") ## extract the pixel data from the image using PIL (python image library)\n",
        "pixel = np.asarray(f) ## convert the pixel data generated using PIL into a numpy 3D array\n",
        "\n",
        "# for storing the data in excel sheet using pandas, we will use pandas dataframe but DataFrame function takes 2D array as a argument\n",
        "# have to convert 3D pixel data array to 2D array\n",
        "# since PIL returns a 3D list with each pixel reperesented by a list of size 3, containing RGB values.\n",
        "# list of RGB values of pixels of each line are put in a single list.\n",
        "# list of each line are elements of a list.\n",
        "\n",
        "#idea to convert the 3D list to a pandas dataframe, but pd.DataFrame(list) accepts only 2D list as arguments.\n",
        "# so we do some data wrangling by creating a 2D list of size [3][number of pixel list in the 3D original list]\n",
        "# first row will contain the first value of each pixel list, second row contains the second value of pixel list and third row contains the third value of pixel list\n",
        "# The original 3D image data list can be recreated from the data frame if needed with some processing.\n",
        "temp = np.zeros([3, len(pixel) * len(pixel[0])], dtype= int)\n",
        "ct = 0\n",
        "for i in pixel:\n",
        "  for j in i:\n",
        "    temp[0][ct] = j[0]\n",
        "    temp[1][ct] = j[1]\n",
        "    temp[2][ct] = j[2]\n",
        "    ct += 1\n",
        "\n",
        "df = pd.DataFrame(temp)\n",
        "df.to_csv('image.csv', index= False) # put index = false in the parameter to store the Dataframe without the index\n",
        "\n",
        "# first row and first column represent the column and row index respectively in the above .csv file"
      ],
      "execution_count": null,
      "outputs": []
    },
    {
      "cell_type": "markdown",
      "metadata": {
        "id": "11cNls0kicQv"
      },
      "source": [
        "question 2:"
      ]
    },
    {
      "cell_type": "code",
      "metadata": {
        "id": "C7Vw7kedidv9",
        "outputId": "edcd9a5d-da3a-4919-fbfb-7d6cd8ecee85",
        "colab": {
          "base_uri": "https://localhost:8080/",
          "height": 101
        }
      },
      "source": [
        "import pandas as pd\n",
        "# import the data from csv file and store it in a pandas DataFrame\n",
        "col = []\n",
        "for i in range(0,(len(pixel) * len(pixel[0])) - 1): #creating a list of column numbers from 0 to second last column number(ignoring last column)\n",
        "  col.append(i)\n",
        "\n",
        "df = pd.read_csv('image.csv', skiprows=[2], usecols= col) ## skiprows = [2] to ignore the last row (row with index 2) and col is the list of indexes of columns which are to be used\n",
        "# df is the DataFrame of the matrix stored in .csv file with last row and last column ignored\n",
        "print(df)\n",
        "\n",
        "\n"
      ],
      "execution_count": null,
      "outputs": [
        {
          "output_type": "stream",
          "text": [
            "    0   1   2   3   4   5  ...  921593  921594  921595  921596  921597  921598\n",
            "0  21  21  21  21  21  21  ...      23      23      23      23      23      23\n",
            "1  91  91  91  91  91  91  ...      56      56      56      56      56      56\n",
            "\n",
            "[2 rows x 921599 columns]\n"
          ],
          "name": "stdout"
        }
      ]
    },
    {
      "cell_type": "markdown",
      "metadata": {
        "id": "75sU52wCX7yu"
      },
      "source": [
        "question 3:"
      ]
    },
    {
      "cell_type": "code",
      "metadata": {
        "id": "PX6TeKtWX9s7",
        "outputId": "cf4f6b1d-35a6-4e69-8e08-06fc7ddbcb4c",
        "colab": {
          "base_uri": "https://localhost:8080/",
          "height": 87
        }
      },
      "source": [
        "import pandas as pd\n",
        "date = pd.datetime.now().date()\n",
        "\n",
        "print(\"today's date is: \" + str(date))"
      ],
      "execution_count": null,
      "outputs": [
        {
          "output_type": "stream",
          "text": [
            "today's date is: 2020-08-23\n"
          ],
          "name": "stdout"
        },
        {
          "output_type": "stream",
          "text": [
            "/usr/local/lib/python3.6/dist-packages/ipykernel_launcher.py:2: FutureWarning: The pandas.datetime class is deprecated and will be removed from pandas in a future version. Import from datetime instead.\n",
            "  \n"
          ],
          "name": "stderr"
        }
      ]
    },
    {
      "cell_type": "markdown",
      "metadata": {
        "id": "x-9M8k92R-rl"
      },
      "source": [
        "part 3:"
      ]
    },
    {
      "cell_type": "markdown",
      "metadata": {
        "id": "eHEqDF1ASAia"
      },
      "source": [
        "question 1:"
      ]
    },
    {
      "cell_type": "code",
      "metadata": {
        "id": "bEX81tRwSC3L",
        "outputId": "b76d1c13-3989-419a-f80d-49c09e483887",
        "colab": {
          "base_uri": "https://localhost:8080/",
          "height": 202
        }
      },
      "source": [
        "from datetime import date\n",
        "import math as mt\n",
        "print(\"-------------------- Mini age calculator -------------------------\")\n",
        "\n",
        "print(\"Enter your year of birth: \\n\")\n",
        "year = input()\n",
        "print(\"Enter your month of birth (in number): \\n\")\n",
        "month = input()\n",
        "print(\"Enter your day of birth (in number): \\n\")\n",
        "day = input()\n",
        "\n",
        "birthday = date(int(year), int(month), int(day))\n",
        "\n",
        "today = date.today()\n",
        "\n",
        "days_in_a_year = 365.2425  # number of days in a year (the extra partial day accumulates to form one extra day in a leap year)\n",
        "age = (today - birthday).days / days_in_a_year\n",
        "\n",
        "print(\"Your age is: \" + str(mt.floor(age)) + \" years\")"
      ],
      "execution_count": null,
      "outputs": [
        {
          "output_type": "stream",
          "text": [
            "-------------------- Mini age calculator -------------------------\n",
            "Enter your year of birth: \n",
            "\n",
            "2001\n",
            "Enter your month of birth (in number): \n",
            "\n",
            "8\n",
            "Enter your day of birth (in number): \n",
            "\n",
            "22\n",
            "Your age is: 19 years\n"
          ],
          "name": "stdout"
        }
      ]
    }
  ]
}
