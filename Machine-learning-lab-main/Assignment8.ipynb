{
  "nbformat": 4,
  "nbformat_minor": 0,
  "metadata": {
    "colab": {
      "name": "Assignment8.ipynb",
      "provenance": [],
      "collapsed_sections": [],
      "authorship_tag": "ABX9TyO/+eXH5K7e+1RISVorbmGB",
      "include_colab_link": true
    },
    "kernelspec": {
      "name": "python3",
      "display_name": "Python 3"
    }
  },
  "cells": [
    {
      "cell_type": "markdown",
      "metadata": {
        "id": "view-in-github",
        "colab_type": "text"
      },
      "source": [
        "<a href=\"https://colab.research.google.com/github/hyp3r5pace/Machine-learning-lab/blob/main/Assignment8.ipynb\" target=\"_parent\"><img src=\"https://colab.research.google.com/assets/colab-badge.svg\" alt=\"Open In Colab\"/></a>"
      ]
    },
    {
      "cell_type": "markdown",
      "metadata": {
        "id": "Srgd9LjXH9Ly"
      },
      "source": [
        "# **Roll no: 1801176**\n",
        "# **Name: Soumyajit Deb**"
      ]
    },
    {
      "cell_type": "markdown",
      "metadata": {
        "id": "Q-l2r62PCRZ_"
      },
      "source": [
        "# **Question 1**"
      ]
    },
    {
      "cell_type": "markdown",
      "metadata": {
        "id": "kt-5QUWuCexh"
      },
      "source": [
        "# **SOM clustering from scratch**"
      ]
    },
    {
      "cell_type": "code",
      "metadata": {
        "id": "m-pyV0DzRU9A"
      },
      "source": [
        "# importing libraries\n",
        "\n",
        "import numpy as np\n",
        "import pandas as pd\n",
        "import random\n",
        "import matplotlib.pyplot as plt\n",
        "from sklearn import datasets\n",
        "from sklearn import metrics\n",
        "import warnings\n",
        "import math\n",
        "import copy\n",
        "\n",
        "# to prevent ipython from priniting any warning\n",
        "warnings.filterwarnings('ignore')"
      ],
      "execution_count": null,
      "outputs": []
    },
    {
      "cell_type": "code",
      "metadata": {
        "id": "E5Kb8_6ycAUg",
        "outputId": "a4744114-6c99-4e0f-c199-806c4b66d23d",
        "colab": {
          "base_uri": "https://localhost:8080/"
        }
      },
      "source": [
        "# load the iris dataset\n",
        "\n",
        "iris = datasets.load_iris()\n",
        "\n",
        "# loading the feature sample dataset into a DataFrame\n",
        "df = pd.DataFrame(iris.data, columns=iris.feature_names)\n",
        "\n",
        "print(df)"
      ],
      "execution_count": null,
      "outputs": [
        {
          "output_type": "stream",
          "text": [
            "     sepal length (cm)  sepal width (cm)  petal length (cm)  petal width (cm)\n",
            "0                  5.1               3.5                1.4               0.2\n",
            "1                  4.9               3.0                1.4               0.2\n",
            "2                  4.7               3.2                1.3               0.2\n",
            "3                  4.6               3.1                1.5               0.2\n",
            "4                  5.0               3.6                1.4               0.2\n",
            "..                 ...               ...                ...               ...\n",
            "145                6.7               3.0                5.2               2.3\n",
            "146                6.3               2.5                5.0               1.9\n",
            "147                6.5               3.0                5.2               2.0\n",
            "148                6.2               3.4                5.4               2.3\n",
            "149                5.9               3.0                5.1               1.8\n",
            "\n",
            "[150 rows x 4 columns]\n"
          ],
          "name": "stdout"
        }
      ]
    },
    {
      "cell_type": "code",
      "metadata": {
        "id": "0xK346J_cCXH"
      },
      "source": [
        "# defining the self organising map (SOM)\n",
        "\n",
        "class SOM_Clustering:\n",
        "  def __init__(self, numberOfNodes, learningRate):\n",
        "    self.learningRate = learningRate\n",
        "    self.numberOfNodes = numberOfNodes\n",
        "    self.weights = None\n",
        "\n",
        "  # function for randomly intializing the weights of the nodes in the map\n",
        "  # each node represents a cluster center in the input space\n",
        "  # for avoiding the problem of division by 0 (formation of less number of clusters than needed), we randomly intialize with one of the points in input space\n",
        "  def initializeWeights(self, inputSpace):\n",
        "    index = [i for i in range(len(inputSpace))]\n",
        "    self.weights = []\n",
        "    for i in range(self.numberOfNodes):\n",
        "      random.seed(i)\n",
        "      randIndex = random.sample(index, 20)\n",
        "      self.weights.append(copy.deepcopy(inputSpace[randIndex[random.choice([x for x in range(18)])]]))\n",
        "    return self.weights\n",
        "\n",
        "\n",
        "  # function to compute the best matching unit (BMU) from the map for the given input\n",
        "  def getBMU(self, input):\n",
        "    min_node, min_dist = 0, float('Inf')\n",
        "    for i in range(len(self.weights)):\n",
        "        temp = [(x1 - x2) ** 2 for (x1,x2) in zip(self.weights[i], input)]\n",
        "        totalSum = sum(temp)\n",
        "        dist = totalSum ** 0.5\n",
        "        if (dist < min_dist):\n",
        "          min_dist = dist\n",
        "          min_node = i\n",
        "    return min_node\n",
        "  \n",
        "  # function to move the BMU closer to the input by changing the weights.\n",
        "  # in this case, neighbour radius is 0 since for clustering SOM has a neighbour radius 0 as each node represents a cluster center\n",
        "  # and it doesn't make sense to move other cluster centers closer to a point in different cluster\n",
        "  # neighbour radius > 0 in SOM for other cases such as space approximation, input space visualisation etc.\n",
        "  def update_weight(self, input, min_node):\n",
        "    for i in range(len(self.weights[min_node])):\n",
        "      self.weights[min_node][i] += self.learningRate * (input[i] - self.weights[min_node][i])\n",
        "  \n",
        "  # function to perform the clustering\n",
        "  # unlike k-means, clustering using SOM doesn't have a convergence criteria since for every input, the cluster center or node will be changed or updated\n",
        "  def cluster(self, iterations, inputSpace):\n",
        "    iter = 0\n",
        "    while (iter <= iterations):\n",
        "      for i in range(len(inputSpace)):\n",
        "        loc = self.getBMU(inputSpace[i])\n",
        "        self.update_weight(inputSpace[i], loc)\n",
        "      iter += 1\n",
        "\n",
        "  # function to display the final cluster centers\n",
        "  def showClusterCenters(self):\n",
        "    for i in range(self.numberOfNodes):\n",
        "        print(self.weights[i])\n",
        "\n",
        "  \n",
        "  # function to compute euclidean distance between two points\n",
        "  def calcDistance(self, point_a, point_b):\n",
        "    temp = [(x1 - x2) ** 2 for (x1,x2) in zip(point_a, point_b)]\n",
        "    dist = np.sqrt(sum(temp))\n",
        "    return dist\n",
        "\n",
        "  # function to compute the sihouette score of the current clustering\n",
        "  def silhoutteScore(self, inputSpace):\n",
        "    # forming a cluster wise list of inputspace\n",
        "    cluster_assigned = [[] for i in range(self.numberOfNodes)]\n",
        "    for i in range(len(inputSpace)):\n",
        "      index = self.getBMU(inputSpace[i])\n",
        "      cluster_assigned[index].append(inputSpace[i])\n",
        "\n",
        "    silhoutte_score_list = []\n",
        "\n",
        "    for i in range(len(inputSpace)):\n",
        "      # compute the intra cluster distance\n",
        "      index = self.getBMU(inputSpace[i])\n",
        "      sum = 0\n",
        "      for j in range(len(cluster_assigned[index])):\n",
        "        sum += self.calcDistance(inputSpace[i], cluster_assigned[index][j])\n",
        "      if (len(cluster_assigned[index]) > 1):\n",
        "        avg_intra_cluster_dist = sum / (len(cluster_assigned[index]) - 1)\n",
        "      else:\n",
        "        avg_intra_cluster_dist = 0.0\n",
        "\n",
        "      # compute the average inter cluster distance w.r.t nearest cluster\n",
        "      min_avg_inter_cluster_dist = float('Inf')\n",
        "      index1 = 0\n",
        "      for j in range(len(cluster_assigned)):\n",
        "        if (j != index):\n",
        "          sum = 0\n",
        "          for k in range(len(cluster_assigned[j])):\n",
        "            sum += self.calcDistance(inputSpace[i], cluster_assigned[j][k])\n",
        "          avg = sum / len(cluster_assigned[j])\n",
        "          if (avg < min_avg_inter_cluster_dist):\n",
        "            index1 = j\n",
        "            min_avg_inter_cluster_dist = avg\n",
        "\n",
        "      silhoutte_score = (min_avg_inter_cluster_dist - avg_intra_cluster_dist) / max(min_avg_inter_cluster_dist, avg_intra_cluster_dist)\n",
        "      silhoutte_score_list.append(silhoutte_score)\n",
        "    return (math.fsum(silhoutte_score_list) / len(silhoutte_score_list))"
      ],
      "execution_count": null,
      "outputs": []
    },
    {
      "cell_type": "code",
      "metadata": {
        "id": "ry78e8HJoJ-O",
        "outputId": "abf97f18-230b-40d3-d3cb-4ca7c8bc6351",
        "colab": {
          "base_uri": "https://localhost:8080/"
        }
      },
      "source": [
        "# creating a instance of the SOM\n",
        "cluster_silhoutte_score = []\n",
        "for x in range(2, 20):\n",
        "  print('Number of clusters %d' %(x))\n",
        "  clustering = SOM_Clustering(x, 0.05)\n",
        "  print('Initial cluster centers:')\n",
        "  print(clustering.initializeWeights(df.values.tolist()))\n",
        "\n",
        "  # performing clustering on the iris dataset\n",
        "  clustering.cluster(5000, df.values.tolist())\n",
        "\n",
        "  # printing the final cluster weight\n",
        "  print('\\n\\nThe final cluster centers are:')\n",
        "  print(clustering.weights)\n",
        "\n",
        "  print('\\nSilhoutte score of current clustering is:')\n",
        "  silhoutte_score = clustering.silhoutteScore(df.values.tolist())\n",
        "  cluster_silhoutte_score.append(silhoutte_score)\n",
        "  print(silhoutte_score)\n",
        "\n",
        "  print('\\n\\n')"
      ],
      "execution_count": null,
      "outputs": [
        {
          "output_type": "stream",
          "text": [
            "Number of clusters 2\n",
            "Initial cluster centers:\n",
            "[[5.6, 3.0, 4.5, 1.5], [4.8, 3.4, 1.9, 0.2]]\n",
            "\n",
            "\n",
            "The final cluster centers are:\n",
            "[[6.501916929754613, 2.9870936332127624, 5.372960056965866, 1.9920834672075947], [4.978712179023518, 3.352988404739799, 1.5635378214821938, 0.29197288152932704]]\n",
            "\n",
            "Silhoutte score of current clustering is:\n",
            "0.67723079175477\n",
            "\n",
            "\n",
            "\n",
            "Number of clusters 3\n",
            "Initial cluster centers:\n",
            "[[5.6, 3.0, 4.5, 1.5], [4.8, 3.4, 1.9, 0.2], [6.5, 3.2, 5.1, 2.0]]\n",
            "\n",
            "\n",
            "The final cluster centers are:\n",
            "[[5.880535055269213, 2.738531440801766, 4.564841509282503, 1.551065440349464], [4.983200260615011, 3.4073267519851593, 1.4645266641948187, 0.2516019565199126], [6.791198027531217, 3.093219558064005, 5.66612712375138, 2.116645696449634]]\n",
            "\n",
            "Silhoutte score of current clustering is:\n",
            "0.5515631790182418\n",
            "\n",
            "\n",
            "\n",
            "Number of clusters 4\n",
            "Initial cluster centers:\n",
            "[[5.6, 3.0, 4.5, 1.5], [4.8, 3.4, 1.9, 0.2], [6.5, 3.2, 5.1, 2.0], [6.9, 3.1, 5.4, 2.1]]\n",
            "\n",
            "\n",
            "The final cluster centers are:\n",
            "[[5.512057312733237, 2.65260985695894, 3.973896962452413, 1.2435522337883824], [4.983200260615011, 3.4073267519851593, 1.4645266641948187, 0.2516019565199126], [6.181217391905547, 2.831274598285078, 4.943106626491377, 1.7147408996247524], [6.897259124940283, 3.1246668916827463, 5.777007199960409, 2.177982812000116]]\n",
            "\n",
            "Silhoutte score of current clustering is:\n",
            "0.4972176648710981\n",
            "\n",
            "\n",
            "\n",
            "Number of clusters 5\n",
            "Initial cluster centers:\n",
            "[[5.6, 3.0, 4.5, 1.5], [4.8, 3.4, 1.9, 0.2], [6.5, 3.2, 5.1, 2.0], [6.9, 3.1, 5.4, 2.1], [5.4, 3.9, 1.7, 0.4]]\n",
            "\n",
            "\n",
            "The final cluster centers are:\n",
            "[[5.512057312733237, 2.65260985695894, 3.973896962452413, 1.2435522337883824], [4.707022423192662, 3.1114716135320735, 1.4080965992452394, 0.20497494615150763], [6.181217391905547, 2.831274598285078, 4.943106626491377, 1.7147408996247524], [6.897259124940283, 3.1246668916827463, 5.777007199960409, 2.177982812000116], [5.215545945677262, 3.6576607059105064, 1.5102584200286202, 0.28162839026649755]]\n",
            "\n",
            "Silhoutte score of current clustering is:\n",
            "0.3719005777828074\n",
            "\n",
            "\n",
            "\n",
            "Number of clusters 6\n",
            "Initial cluster centers:\n",
            "[[5.6, 3.0, 4.5, 1.5], [4.8, 3.4, 1.9, 0.2], [6.5, 3.2, 5.1, 2.0], [6.9, 3.1, 5.4, 2.1], [5.4, 3.9, 1.7, 0.4], [6.9, 3.1, 5.4, 2.1]]\n",
            "\n",
            "\n",
            "The final cluster centers are:\n",
            "[[5.512057312733237, 2.65260985695894, 3.973896962452413, 1.2435522337883824], [4.707022423192662, 3.1114716135320735, 1.4080965992452394, 0.20497494615150763], [6.157446405259777, 2.8045287280544913, 4.858272831210445, 1.6394336767797026], [7.493136507211286, 3.129156044662036, 6.288118961642281, 2.042044631338896], [5.215545945677262, 3.6576607059105064, 1.5102584200286202, 0.28162839026649755], [6.550371517765319, 3.0870110584676116, 5.487490483300866, 2.187063227098867]]\n",
            "\n",
            "Silhoutte score of current clustering is:\n",
            "0.367328041599567\n",
            "\n",
            "\n",
            "\n",
            "Number of clusters 7\n",
            "Initial cluster centers:\n",
            "[[5.6, 3.0, 4.5, 1.5], [4.8, 3.4, 1.9, 0.2], [6.5, 3.2, 5.1, 2.0], [6.9, 3.1, 5.4, 2.1], [5.4, 3.9, 1.7, 0.4], [6.9, 3.1, 5.4, 2.1], [4.8, 3.4, 1.9, 0.2]]\n",
            "\n",
            "\n",
            "The final cluster centers are:\n",
            "[[5.512057312733237, 2.65260985695894, 3.973896962452413, 1.2435522337883824], [4.672584247670523, 3.0711385142489527, 1.3761595297963691, 0.20520491220683498], [6.157446405259777, 2.8045287280544913, 4.858272831210445, 1.6394336767797026], [7.493136507211286, 3.129156044662036, 6.288118961642281, 2.042044631338896], [5.481989774909268, 3.910650116098631, 1.4556953680575102, 0.25277554975606564], [6.550371517765319, 3.0870110584676116, 5.487490483300866, 2.187063227098867], [5.072518853528908, 3.510612802511052, 1.5421723392460642, 0.2868863992088847]]\n",
            "\n",
            "Silhoutte score of current clustering is:\n",
            "0.34302952757565736\n",
            "\n",
            "\n",
            "\n",
            "Number of clusters 8\n",
            "Initial cluster centers:\n",
            "[[5.6, 3.0, 4.5, 1.5], [4.8, 3.4, 1.9, 0.2], [6.5, 3.2, 5.1, 2.0], [6.9, 3.1, 5.4, 2.1], [5.4, 3.9, 1.7, 0.4], [6.9, 3.1, 5.4, 2.1], [4.8, 3.4, 1.9, 0.2], [4.6, 3.6, 1.0, 0.2]]\n",
            "\n",
            "\n",
            "The final cluster centers are:\n",
            "[[5.512057312733237, 2.65260985695894, 3.973896962452413, 1.2435522337883824], [5.13000263066557, 3.5119529544186254, 1.48268956337881, 0.27423483028325774], [6.157446405259777, 2.8045287280544913, 4.858272831210445, 1.6394336767797026], [7.493136507211286, 3.129156044662036, 6.288118961642281, 2.042044631338896], [5.509129358744723, 4.009537670906319, 1.4727491150556453, 0.2697151213034248], [6.550371517765319, 3.0870110584676116, 5.487490483300866, 2.187063227098867], [4.905170902716913, 3.540227870289221, 1.8050832602979847, 0.2701139351446099], [4.672584247670522, 3.0711385142489527, 1.3761595297963691, 0.20520491220683498]]\n",
            "\n",
            "Silhoutte score of current clustering is:\n",
            "0.3302694509180015\n",
            "\n",
            "\n",
            "\n",
            "Number of clusters 9\n",
            "Initial cluster centers:\n",
            "[[5.6, 3.0, 4.5, 1.5], [4.8, 3.4, 1.9, 0.2], [6.5, 3.2, 5.1, 2.0], [6.9, 3.1, 5.4, 2.1], [5.4, 3.9, 1.7, 0.4], [6.9, 3.1, 5.4, 2.1], [4.8, 3.4, 1.9, 0.2], [4.6, 3.6, 1.0, 0.2], [5.7, 2.9, 4.2, 1.3]]\n",
            "\n",
            "\n",
            "The final cluster centers are:\n",
            "[[6.007429422414543, 2.7724631721059665, 4.879316269260155, 1.68810820718537], [5.13000263066557, 3.5119529544186254, 1.48268956337881, 0.27423483028325774], [6.633828772853063, 3.023416997061739, 4.637619862423605, 1.460802848945285], [7.493136507211286, 3.129156044662036, 6.288118961642281, 2.042044631338896], [5.509129358744723, 4.009537670906319, 1.4727491150556453, 0.2697151213034248], [6.573847862761148, 3.094676295319504, 5.500549808014426, 2.1788373877469764], [4.905170902716913, 3.540227870289221, 1.8050832602979847, 0.2701139351446099], [4.672584247670522, 3.0711385142489527, 1.3761595297963691, 0.20520491220683498], [5.50078024689169, 2.6129204383616527, 3.917088649213177, 1.2163974751676883]]\n",
            "\n",
            "Silhoutte score of current clustering is:\n",
            "0.3185714941461021\n",
            "\n",
            "\n",
            "\n",
            "Number of clusters 10\n",
            "Initial cluster centers:\n",
            "[[5.6, 3.0, 4.5, 1.5], [4.8, 3.4, 1.9, 0.2], [6.5, 3.2, 5.1, 2.0], [6.9, 3.1, 5.4, 2.1], [5.4, 3.9, 1.7, 0.4], [6.9, 3.1, 5.4, 2.1], [4.8, 3.4, 1.9, 0.2], [4.6, 3.6, 1.0, 0.2], [5.7, 2.9, 4.2, 1.3], [4.6, 3.2, 1.4, 0.2]]\n",
            "\n",
            "\n",
            "The final cluster centers are:\n",
            "[[6.007429422414543, 2.7724631721059665, 4.879316269260155, 1.68810820718537], [5.128068967742525, 3.5315375779314673, 1.509968301693361, 0.2816077838141077], [6.633828772853063, 3.023416997061739, 4.637619862423605, 1.460802848945285], [7.493136507211286, 3.129156044662036, 6.288118961642281, 2.042044631338896], [5.509129358744723, 4.009537670906319, 1.4727491150556444, 0.2697151213034248], [6.573847862761148, 3.094676295319504, 5.500549808014426, 2.1788373877469764], [4.8, 3.4, 1.7538461538461556, 0.2], [4.6, 3.6, 1.0, 0.2], [5.50078024689169, 2.6129204383616527, 3.917088649213177, 1.2163974751676883], [4.675651910796042, 3.045061367405995, 1.3947284486993858, 0.2048703285256898]]\n",
            "\n",
            "Silhoutte score of current clustering is:\n",
            "0.3041823928737689\n",
            "\n",
            "\n",
            "\n",
            "Number of clusters 11\n",
            "Initial cluster centers:\n",
            "[[5.6, 3.0, 4.5, 1.5], [4.8, 3.4, 1.9, 0.2], [6.5, 3.2, 5.1, 2.0], [6.9, 3.1, 5.4, 2.1], [5.4, 3.9, 1.7, 0.4], [6.9, 3.1, 5.4, 2.1], [4.8, 3.4, 1.9, 0.2], [4.6, 3.6, 1.0, 0.2], [5.7, 2.9, 4.2, 1.3], [4.6, 3.2, 1.4, 0.2], [6.0, 2.7, 5.1, 1.6]]\n",
            "\n",
            "\n",
            "The final cluster centers are:\n",
            "[[5.781868712126065, 2.814428032196619, 4.350638107649983, 1.3630673192428637], [5.128068967742525, 3.5315375779314673, 1.509968301693361, 0.2816077838141077], [6.633828772853063, 3.0234169970617395, 4.637619862423605, 1.460802848945285], [7.493136507211286, 3.129156044662036, 6.288118961642281, 2.042044631338896], [5.509129358744723, 4.009537670906319, 1.4727491150556444, 0.2697151213034248], [6.578481201308949, 3.106031913698429, 5.507746360780354, 2.1865541415528513], [4.8, 3.4, 1.7538461538461556, 0.2], [4.6, 3.6, 1.0, 0.2], [5.449133630271408, 2.47478885486424, 3.674778068776492, 1.1296779941124153], [4.675651910796042, 3.045061367405995, 1.3947284486993858, 0.2048703285256898], [6.033208127871613, 2.7403958303412974, 5.034892644722536, 1.791580718348638]]\n",
            "\n",
            "Silhoutte score of current clustering is:\n",
            "0.2924073563645937\n",
            "\n",
            "\n",
            "\n",
            "Number of clusters 12\n",
            "Initial cluster centers:\n",
            "[[5.6, 3.0, 4.5, 1.5], [4.8, 3.4, 1.9, 0.2], [6.5, 3.2, 5.1, 2.0], [6.9, 3.1, 5.4, 2.1], [5.4, 3.9, 1.7, 0.4], [6.9, 3.1, 5.4, 2.1], [4.8, 3.4, 1.9, 0.2], [4.6, 3.6, 1.0, 0.2], [5.7, 2.9, 4.2, 1.3], [4.6, 3.2, 1.4, 0.2], [6.0, 2.7, 5.1, 1.6], [6.8, 3.2, 5.9, 2.3]]\n",
            "\n",
            "\n",
            "The final cluster centers are:\n",
            "[[5.781868712126065, 2.814428032196619, 4.350638107649983, 1.3630673192428637], [5.128068967742525, 3.5315375779314673, 1.509968301693361, 0.2816077838141077], [6.633828772853063, 3.0234169970617395, 4.637619862423605, 1.460802848945285], [6.494902132967481, 3.109149980606173, 5.461688922827305, 2.193704439186943], [5.509129358744723, 4.009537670906319, 1.4727491150556444, 0.2697151213034248], [6.924958538651565, 3.0698328046033003, 5.7429968127306275, 2.0238395399303286], [4.8, 3.4, 1.7538461538461556, 0.2], [4.6, 3.6, 1.0, 0.2], [5.449133630271408, 2.47478885486424, 3.674778068776492, 1.1296779941124153], [4.675651910796042, 3.045061367405995, 1.3947284486993858, 0.2048703285256898], [6.033208127871613, 2.7403958303412974, 5.034892644722536, 1.791580718348638], [7.592633990619522, 3.1450259557350337, 6.4227413694709306, 2.12211996619803]]\n",
            "\n",
            "Silhoutte score of current clustering is:\n",
            "0.2555199829434241\n",
            "\n",
            "\n",
            "\n",
            "Number of clusters 13\n",
            "Initial cluster centers:\n",
            "[[5.6, 3.0, 4.5, 1.5], [4.8, 3.4, 1.9, 0.2], [6.5, 3.2, 5.1, 2.0], [6.9, 3.1, 5.4, 2.1], [5.4, 3.9, 1.7, 0.4], [6.9, 3.1, 5.4, 2.1], [4.8, 3.4, 1.9, 0.2], [4.6, 3.6, 1.0, 0.2], [5.7, 2.9, 4.2, 1.3], [4.6, 3.2, 1.4, 0.2], [6.0, 2.7, 5.1, 1.6], [6.8, 3.2, 5.9, 2.3], [6.2, 2.2, 4.5, 1.5]]\n",
            "\n",
            "\n",
            "The final cluster centers are:\n",
            "[[5.742205889964049, 2.8664783567145355, 4.3444565679823794, 1.3614123477006768], [5.128068967742525, 3.5315375779314673, 1.509968301693361, 0.2816077838141077], [6.633828772853063, 3.0234169970617395, 4.637619862423605, 1.460802848945285], [6.523384723620856, 3.1109688326511717, 5.653166141945232, 2.1884927074616596], [5.509129358744723, 4.009537670906319, 1.4727491150556444, 0.2697151213034248], [6.673145974414961, 3.0805381510264525, 5.253254962086291, 2.15965140142902], [4.8, 3.4, 1.7538461538461556, 0.2], [4.6, 3.6, 1.0, 0.2], [5.41362043668572, 2.489448552042931, 3.6557152065732494, 1.137711648805205], [4.675651910796042, 3.045061367405995, 1.3947284486993858, 0.2048703285256898], [6.033208127871613, 2.7403958303412974, 5.034892644722536, 1.791580718348638], [7.493136507211286, 3.129156044662036, 6.288118961642281, 2.042044631338896], [6.171779141104299, 2.235056967572307, 4.3067484662576705, 1.2716914986853636]]\n",
            "\n",
            "Silhoutte score of current clustering is:\n",
            "0.262604226378661\n",
            "\n",
            "\n",
            "\n",
            "Number of clusters 14\n",
            "Initial cluster centers:\n",
            "[[5.6, 3.0, 4.5, 1.5], [4.8, 3.4, 1.9, 0.2], [6.5, 3.2, 5.1, 2.0], [6.9, 3.1, 5.4, 2.1], [5.4, 3.9, 1.7, 0.4], [6.9, 3.1, 5.4, 2.1], [4.8, 3.4, 1.9, 0.2], [4.6, 3.6, 1.0, 0.2], [5.7, 2.9, 4.2, 1.3], [4.6, 3.2, 1.4, 0.2], [6.0, 2.7, 5.1, 1.6], [6.8, 3.2, 5.9, 2.3], [6.2, 2.2, 4.5, 1.5], [4.9, 3.6, 1.4, 0.1]]\n",
            "\n",
            "\n",
            "The final cluster centers are:\n",
            "[[5.742205889964049, 2.8664783567145355, 4.3444565679823794, 1.3614123477006768], [5.050065703022337, 3.5103170592001067, 1.7039758751979521, 0.4743252805013644], [6.633828772853063, 3.0234169970617395, 4.637619862423605, 1.460802848945285], [6.523384723620856, 3.1109688326511717, 5.653166141945232, 2.1884927074616596], [5.521760867433631, 4.046584448010656, 1.4708132790622135, 0.2790029098647096], [6.673145974414961, 3.0805381510264525, 5.253254962086291, 2.15965140142902], [4.8, 3.4, 1.7538461538461556, 0.2], [4.6, 3.6, 1.0, 0.2], [5.41362043668572, 2.489448552042931, 3.6557152065732494, 1.137711648805205], [4.675651910796042, 3.045061367405995, 1.3947284486993858, 0.2048703285256898], [6.033208127871613, 2.7403958303412974, 5.034892644722536, 1.791580718348638], [7.493136507211286, 3.129156044662036, 6.288118961642281, 2.042044631338896], [6.171779141104299, 2.235056967572307, 4.3067484662576705, 1.2716914986853636], [5.158811281930458, 3.536554919442981, 1.4589105696740636, 0.23095167004101905]]\n",
            "\n",
            "Silhoutte score of current clustering is:\n",
            "0.26402933547741725\n",
            "\n",
            "\n",
            "\n",
            "Number of clusters 15\n",
            "Initial cluster centers:\n",
            "[[5.6, 3.0, 4.5, 1.5], [4.8, 3.4, 1.9, 0.2], [6.5, 3.2, 5.1, 2.0], [6.9, 3.1, 5.4, 2.1], [5.4, 3.9, 1.7, 0.4], [6.9, 3.1, 5.4, 2.1], [4.8, 3.4, 1.9, 0.2], [4.6, 3.6, 1.0, 0.2], [5.7, 2.9, 4.2, 1.3], [4.6, 3.2, 1.4, 0.2], [6.0, 2.7, 5.1, 1.6], [6.8, 3.2, 5.9, 2.3], [6.2, 2.2, 4.5, 1.5], [4.9, 3.6, 1.4, 0.1], [6.7, 3.1, 4.4, 1.4]]\n",
            "\n",
            "\n",
            "The final cluster centers are:\n",
            "[[5.742205889964049, 2.8664783567145355, 4.3444565679823794, 1.3614123477006768], [5.050065703022337, 3.5103170592001067, 1.7039758751979521, 0.4743252805013644], [6.392148136379117, 2.806659542473651, 5.560400667047926, 1.8468820188579298], [6.565643249836416, 3.2508743511916958, 5.6975891497575955, 2.335873140047031], [5.521760867433631, 4.046584448010656, 1.4708132790622135, 0.2790029098647096], [6.673145974414961, 3.0805381510264525, 5.253254962086291, 2.159651401429021], [4.8, 3.4, 1.7538461538461556, 0.2], [4.6, 3.6, 1.0, 0.2], [5.41362043668572, 2.489448552042931, 3.6557152065732494, 1.137711648805205], [4.675651910796042, 3.045061367405995, 1.3947284486993858, 0.2048703285256898], [6.010618053601226, 2.7523107813417242, 4.978876610181705, 1.8145188795046685], [7.493136507211286, 3.129156044662036, 6.288118961642281, 2.042044631338896], [6.171779141104299, 2.235056967572304, 4.3067484662576705, 1.2716914986853636], [5.158811281930458, 3.536554919442981, 1.4589105696740636, 0.23095167004101905], [6.633828772853063, 3.0234169970617395, 4.637619862423602, 1.460802848945285]]\n",
            "\n",
            "Silhoutte score of current clustering is:\n",
            "0.2767298716488445\n",
            "\n",
            "\n",
            "\n",
            "Number of clusters 16\n",
            "Initial cluster centers:\n",
            "[[5.6, 3.0, 4.5, 1.5], [4.8, 3.4, 1.9, 0.2], [6.5, 3.2, 5.1, 2.0], [6.9, 3.1, 5.4, 2.1], [5.4, 3.9, 1.7, 0.4], [6.9, 3.1, 5.4, 2.1], [4.8, 3.4, 1.9, 0.2], [4.6, 3.6, 1.0, 0.2], [5.7, 2.9, 4.2, 1.3], [4.6, 3.2, 1.4, 0.2], [6.0, 2.7, 5.1, 1.6], [6.8, 3.2, 5.9, 2.3], [6.2, 2.2, 4.5, 1.5], [4.9, 3.6, 1.4, 0.1], [6.7, 3.1, 4.4, 1.4], [6.7, 3.1, 4.7, 1.5]]\n",
            "\n",
            "\n",
            "The final cluster centers are:\n",
            "[[5.6143962880643095, 2.774460856996633, 4.211243650052972, 1.3239024415347918], [5.050065703022337, 3.5103170592001067, 1.7039758751979521, 0.4743252805013644], [6.419471393994376, 2.982731516106105, 5.439596767220072, 2.014212202170056], [6.718435921056212, 3.2432865382732388, 5.787179952934942, 2.3353429859285293], [5.521760867433631, 4.046584448010656, 1.4708132790622135, 0.2790029098647096], [6.822979210889857, 3.0499342969776633, 5.292378449408673, 2.205124835742443], [4.8, 3.4, 1.7538461538461556, 0.2], [4.6, 3.6, 1.0, 0.2], [5.327509716049197, 2.4548055319147832, 3.5660274751980543, 1.107680034085261], [4.675651910796042, 3.045061367405995, 1.3947284486993858, 0.2048703285256898], [6.016723918413113, 2.7423945745788374, 5.022765915886406, 1.7860715131897302], [7.544854428398561, 3.097932774886424, 6.332452261520853, 1.9993065186627774], [6.171779141104299, 2.235056967572304, 4.3067484662576705, 1.2716914986853636], [5.158811281930458, 3.536554919442981, 1.4589105696740636, 0.23095167004101905], [6.285643999382772, 3.006705516569173, 4.511128377511162, 1.411248095349182], [6.811855488526746, 3.037162816462475, 4.820839728084362, 1.504044613835318]]\n",
            "\n",
            "Silhoutte score of current clustering is:\n",
            "0.24833218906780494\n",
            "\n",
            "\n",
            "\n",
            "Number of clusters 17\n",
            "Initial cluster centers:\n",
            "[[5.6, 3.0, 4.5, 1.5], [4.8, 3.4, 1.9, 0.2], [6.5, 3.2, 5.1, 2.0], [6.9, 3.1, 5.4, 2.1], [5.4, 3.9, 1.7, 0.4], [6.9, 3.1, 5.4, 2.1], [4.8, 3.4, 1.9, 0.2], [4.6, 3.6, 1.0, 0.2], [5.7, 2.9, 4.2, 1.3], [4.6, 3.2, 1.4, 0.2], [6.0, 2.7, 5.1, 1.6], [6.8, 3.2, 5.9, 2.3], [6.2, 2.2, 4.5, 1.5], [4.9, 3.6, 1.4, 0.1], [6.7, 3.1, 4.4, 1.4], [6.7, 3.1, 4.7, 1.5], [5.8, 2.6, 4.0, 1.2]]\n",
            "\n",
            "\n",
            "The final cluster centers are:\n",
            "[[5.883041103559913, 2.9898807429537055, 4.527101841696535, 1.438398320070156], [5.050065703022337, 3.5103170592001067, 1.7039758751979521, 0.4743252805013644], [6.419471393994376, 2.982731516106105, 5.439596767220072, 2.014212202170056], [6.718435921056212, 3.2432865382732388, 5.787179952934942, 2.3353429859285293], [5.521760867433631, 4.046584448010656, 1.4708132790622135, 0.2790029098647096], [6.822979210889857, 3.0499342969776633, 5.292378449408673, 2.205124835742443], [4.8, 3.4, 1.7538461538461556, 0.2], [4.6, 3.6, 1.0, 0.2], [5.600257074016481, 2.675863066677273, 4.086738810627884, 1.2687744361006628], [4.675651910796042, 3.045061367405995, 1.3947284486993858, 0.2048703285256898], [6.002884337912219, 2.784447788305701, 5.028881783192642, 1.8165576644906045], [7.544854428398561, 3.097932774886424, 6.332452261520853, 1.9993065186627774], [6.196024124802048, 2.298588227366151, 4.706475959432595, 1.448785336433168], [5.158811281930458, 3.536554919442981, 1.4589105696740636, 0.23095167004101905], [6.460349005566258, 3.0057668737131644, 4.462635655604288, 1.4039215810503556], [6.811855488526746, 3.037162816462475, 4.820839728084362, 1.504044613835318], [5.2027182951824305, 2.371815226730449, 3.374625169258281, 1.0188744693841076]]\n",
            "\n",
            "Silhoutte score of current clustering is:\n",
            "0.2384812688936785\n",
            "\n",
            "\n",
            "\n",
            "Number of clusters 18\n",
            "Initial cluster centers:\n",
            "[[5.6, 3.0, 4.5, 1.5], [4.8, 3.4, 1.9, 0.2], [6.5, 3.2, 5.1, 2.0], [6.9, 3.1, 5.4, 2.1], [5.4, 3.9, 1.7, 0.4], [6.9, 3.1, 5.4, 2.1], [4.8, 3.4, 1.9, 0.2], [4.6, 3.6, 1.0, 0.2], [5.7, 2.9, 4.2, 1.3], [4.6, 3.2, 1.4, 0.2], [6.0, 2.7, 5.1, 1.6], [6.8, 3.2, 5.9, 2.3], [6.2, 2.2, 4.5, 1.5], [4.9, 3.6, 1.4, 0.1], [6.7, 3.1, 4.4, 1.4], [6.7, 3.1, 4.7, 1.5], [5.8, 2.6, 4.0, 1.2], [6.4, 2.9, 4.3, 1.3]]\n",
            "\n",
            "\n",
            "The final cluster centers are:\n",
            "[[5.402393006778555, 2.7694930660408, 4.479002653677783, 1.4452077010530449], [5.050065703022337, 3.5103170592001067, 1.7039758751979521, 0.4743252805013644], [6.419471393994376, 2.982731516106105, 5.439596767220072, 2.014212202170056], [6.718435921056212, 3.2432865382732388, 5.787179952934942, 2.3353429859285293], [5.521760867433631, 4.046584448010656, 1.4708132790622135, 0.2790029098647096], [6.822979210889857, 3.0499342969776633, 5.292378449408673, 2.205124835742443], [4.8, 3.4, 1.7538461538461556, 0.2], [4.6, 3.6, 1.0, 0.2], [5.665982786546291, 2.678810490941294, 3.981703407429718, 1.2084848208745], [4.675651910796042, 3.045061367405995, 1.3947284486993858, 0.2048703285256898], [6.002884337912219, 2.784447788305701, 5.028881783192642, 1.8165576644906045], [7.544854428398561, 3.097932774886424, 6.332452261520853, 1.9993065186627774], [6.196024124802048, 2.298588227366151, 4.706475959432595, 1.448785336433168], [5.158811281930458, 3.536554919442981, 1.4589105696740636, 0.23095167004101905], [6.505772516868432, 3.0242201909173376, 4.49101096099257, 1.4220529470646543], [6.811855488526746, 3.037162816462475, 4.820839728084362, 1.504044613835318], [5.003844469153275, 2.3040398935274116, 3.267788672125075, 1.0269550860878072], [6.063037214206914, 2.989223585993877, 4.498695541479677, 1.4127369804200887]]\n",
            "\n",
            "Silhoutte score of current clustering is:\n",
            "0.24631176629344187\n",
            "\n",
            "\n",
            "\n",
            "Number of clusters 19\n",
            "Initial cluster centers:\n",
            "[[5.6, 3.0, 4.5, 1.5], [4.8, 3.4, 1.9, 0.2], [6.5, 3.2, 5.1, 2.0], [6.9, 3.1, 5.4, 2.1], [5.4, 3.9, 1.7, 0.4], [6.9, 3.1, 5.4, 2.1], [4.8, 3.4, 1.9, 0.2], [4.6, 3.6, 1.0, 0.2], [5.7, 2.9, 4.2, 1.3], [4.6, 3.2, 1.4, 0.2], [6.0, 2.7, 5.1, 1.6], [6.8, 3.2, 5.9, 2.3], [6.2, 2.2, 4.5, 1.5], [4.9, 3.6, 1.4, 0.1], [6.7, 3.1, 4.4, 1.4], [6.7, 3.1, 4.7, 1.5], [5.8, 2.6, 4.0, 1.2], [6.4, 2.9, 4.3, 1.3], [5.8, 2.7, 4.1, 1.0]]\n",
            "\n",
            "\n",
            "The final cluster centers are:\n",
            "[[5.287992988606485, 2.8247151621384754, 4.500000000000009, 1.5701139351446103], [5.050065703022337, 3.5103170592001067, 1.7039758751979521, 0.4743252805013644], [6.419471393994376, 2.982731516106105, 5.439596767220072, 2.014212202170056], [6.718435921056212, 3.2432865382732388, 5.787179952934942, 2.3353429859285293], [5.521760867433631, 4.046584448010656, 1.4708132790622135, 0.2790029098647096], [6.822979210889857, 3.0499342969776633, 5.292378449408673, 2.205124835742443], [4.8, 3.4, 1.7538461538461556, 0.2], [4.6, 3.6, 1.0, 0.2], [5.721250115577981, 2.8304622849763983, 4.194734859410337, 1.2690330668491379], [4.675651910796042, 3.045061367405995, 1.3947284486993858, 0.2048703285256898], [6.002884337912219, 2.784447788305701, 5.028881783192642, 1.8165576644906045], [7.544854428398561, 3.097932774886424, 6.332452261520853, 1.9993065186627774], [6.196024124802048, 2.298588227366151, 4.706475959432595, 1.448785336433168], [5.158811281930458, 3.536554919442981, 1.4589105696740636, 0.23095167004101905], [6.505772516868432, 3.0242201909173376, 4.49101096099257, 1.4220529470646543], [6.811855488526746, 3.037162816462475, 4.820839728084362, 1.504044613835318], [5.003844469153275, 2.3040398935274116, 3.267788672125075, 1.0269550860878072], [6.085657762576753, 2.987728415731892, 4.540137962933961, 1.400629699484826], [5.617287188700829, 2.532154604735656, 3.8477361377284476, 1.1694900465388232]]\n",
            "\n",
            "Silhoutte score of current clustering is:\n",
            "0.2430054965506266\n",
            "\n",
            "\n",
            "\n"
          ],
          "name": "stdout"
        }
      ]
    },
    {
      "cell_type": "code",
      "metadata": {
        "id": "Syeg7KgjOt89",
        "outputId": "747c1922-a5bd-4d5c-8e99-8b74d95f00bf",
        "colab": {
          "base_uri": "https://localhost:8080/",
          "height": 279
        }
      },
      "source": [
        "plt.plot([x for x in range(2, 20)], cluster_silhoutte_score)\n",
        "plt.xlabel('Number of clusters')\n",
        "plt.ylabel('Silhoutte Score')\n",
        "plt.xticks([x for x in range(2, 20)])\n",
        "plt.show()"
      ],
      "execution_count": null,
      "outputs": [
        {
          "output_type": "display_data",
          "data": {
            "image/png": "[encoded data removed]",
            "text/plain": [
              "<Figure size 432x288 with 1 Axes>"
            ]
          },
          "metadata": {
            "tags": [],
            "needs_background": "light"
          }
        }
      ]
    },
    {
      "cell_type": "markdown",
      "metadata": {
        "id": "9zifQsn2TtvK"
      },
      "source": [
        "# **Question 2**\n",
        "# **SOM clustering using in-built function**"
      ]
    },
    {
      "cell_type": "code",
      "metadata": {
        "id": "ZPY-nA7GZyDi"
      },
      "source": [
        "silhoutte_score_list = []\n",
        "\n",
        "from minisom import MiniSom\n",
        "for x in range(2, 20):\n",
        "  som = MiniSom(x,1,4, sigma = 0.7, learning_rate=0.03)\n",
        "  som.train(df.values.tolist(), 500)\n",
        "  cluster_centers = []\n",
        "  for point in df.values.tolist():\n",
        "    cluster_centers.append(som.winner(point))\n",
        "  \n",
        "  label = [x1 for (x1,x2) in cluster_centers]\n",
        "\n",
        "  silhoutte_score_list.append(metrics.silhouette_score(df.values.tolist(), label, metric='euclidean'))"
      ],
      "execution_count": null,
      "outputs": []
    },
    {
      "cell_type": "code",
      "metadata": {
        "id": "8K119XFXcDDW",
        "outputId": "4b00b6c4-6f86-45fc-a50d-81a401b310c7",
        "colab": {
          "base_uri": "https://localhost:8080/",
          "height": 279
        }
      },
      "source": [
        "plt.plot([x for x in range(2, 20)], silhoutte_score_list)\n",
        "plt.xlabel('Number of clusters')\n",
        "plt.ylabel('Silhouette Score')\n",
        "plt.xticks([x for x in range(2, 20)])\n",
        "plt.show()"
      ],
      "execution_count": null,
      "outputs": [
        {
          "output_type": "display_data",
          "data": {
            "image/png": "[encoded data removed]",
            "text/plain": [
              "<Figure size 432x288 with 1 Axes>"
            ]
          },
          "metadata": {
            "tags": [],
            "needs_background": "light"
          }
        }
      ]
    },
    {
      "cell_type": "markdown",
      "metadata": {
        "id": "1RJCwVQp7SvH"
      },
      "source": [
        "# **Question 3**"
      ]
    },
    {
      "cell_type": "markdown",
      "metadata": {
        "id": "c-SIvtTr7XH1"
      },
      "source": [
        "# **K-mean clustering**"
      ]
    },
    {
      "cell_type": "code",
      "metadata": {
        "id": "PhVsl_185_1g"
      },
      "source": [
        "# function to calculate the distance between  two points\n",
        "def calcDistance(point_a, point_b):\n",
        "  # using euclidian distance\n",
        "  sum = 0\n",
        "  for i in range(len(point_a)):\n",
        "    sum += (point_a[i] - point_b[i]) ** 2\n",
        "  return math.sqrt(sum)\n",
        "\n",
        "# function to assign cluster to datapoints on the basis of a set of centroids\n",
        "def assignCluster(centroidPoints, dataPoints):\n",
        "  assignedCluster = [None for i in range(len(dataPoints))]\n",
        "  for i in range(len(dataPoints)):\n",
        "    min, temp = float('Inf'), 0\n",
        "    for j in range(len(centroidPoints)):\n",
        "      dist = calcDistance(centroidPoints[j], dataPoints[i])\n",
        "      if (dist < min):\n",
        "        min = dist\n",
        "        temp = j\n",
        "    assignedCluster[i] = temp\n",
        "  \n",
        "  return assignedCluster\n",
        "\n",
        "# function to calculate new centroid points on the basis of average of points assgined to each cluster\n",
        "def calcNewCentroid(assignedCluster, dataPoints, k):\n",
        "  newCentroids = []\n",
        "  for i in range(k):\n",
        "    sum, count = [0, 0, 0, 0], 0\n",
        "    #print(assignedCluster)\n",
        "    for j in range(len(assignedCluster)):\n",
        "      if (assignedCluster[j] == i):\n",
        "        sum = [sum[p] + dataPoints[j][p] for p in range(4)]\n",
        "        count += 1\n",
        "    newCentroids.append([(sum[p] / count) for p in range(4)])\n",
        "  return newCentroids\n",
        "\n",
        "# function to perform the K-Mean Clustering\n",
        "def kMeanClustering(startingPoint, dataPoints):\n",
        "  # assigning cluster to the data points\n",
        "  assignedCluster = assignCluster(startingPoint, dataPoints)\n",
        "\n",
        "  oldCentroids = copy.deepcopy(startingPoint)\n",
        "  # computing the new centroid points by finding the average of all the points in the cluster\n",
        "  newCentroids = calcNewCentroid(assignedCluster, dataPoints, len(startingPoint))\n",
        "  \n",
        "  # assigning cluster points according to thew newly computed centroid points\n",
        "  newAssignedCluster = assignCluster(newCentroids, dataPoints)\n",
        "  \n",
        "  # loop to keep evaluating new cnetroid and cluster assignment until no change\n",
        "  while (True):\n",
        "    change = 0\n",
        "    for val in zip(assignedCluster, newAssignedCluster):\n",
        "      if (val[0] != val[1]):\n",
        "        change = 1\n",
        "        break\n",
        "    \n",
        "    if (change == 0): break\n",
        "\n",
        "    # compute the new centroid points\n",
        "    oldCentroids = newCentroids\n",
        "    newCentroids = calcNewCentroid(newAssignedCluster, dataPoints, len(oldCentroids))\n",
        "\n",
        "    # compute the new cluster assignment for the new centroid points\n",
        "    assignedCluster = newAssignedCluster\n",
        "    newAssignedCluster = assignCluster(newCentroids, dataPoints)\n",
        "\n",
        "  return newCentroids\n",
        "\n",
        "# the K mean score we are considering is the average intra cluster distance for a certain value of k and set of centroids\n",
        "def clusterEvaluation(centroids, dataPoints):\n",
        "  # assign the cluster to each of the datapoints on the basis of the centroid\n",
        "  assignedCluster = assignCluster(centroids, dataPoints)\n",
        "\n",
        "  interClusterDistSum = [0 for i in range(len(centroids))]\n",
        "\n",
        "  for i in range(len(assignedCluster)):\n",
        "    interClusterDistSum[assignedCluster[i]] += calcDistance(centroids[assignedCluster[i]], dataPoints[i])\n",
        "  \n",
        "  return sum(interClusterDistSum) / len(interClusterDistSum)  # it returns the k mean score of a cluster"
      ],
      "execution_count": null,
      "outputs": []
    },
    {
      "cell_type": "code",
      "metadata": {
        "id": "3NeZ5mtU7bcN"
      },
      "source": [
        "# converting the panadas dataframe to list\n",
        "dataPoints = df.values.tolist()\n",
        "\n",
        "# initializing the value of k with 2\n",
        "k =  2\n",
        "index = [i for i in range(150)]\n",
        "efficient_centroid = [0 for i in range(18)]\n",
        "best_k_cluster_metrics = [0 for i in range(18)]\n",
        "while (k <= 19):\n",
        "  # generating 15 different sets of starting points for the certain value of k\n",
        "  starting_points = []\n",
        "  for i in range(15):\n",
        "    temp = []\n",
        "    for j in range(k):\n",
        "      random.seed(j + k)\n",
        "      randIndex = random.sample(index, 18)\n",
        "      temp.append(copy.deepcopy(dataPoints[randIndex[random.choice([x for x in range(18)])]]))\n",
        "    starting_points.append(temp)\n",
        "  \n",
        "  clusteringMetrics = []\n",
        "  centroid_list = []\n",
        "  for i in range(15):\n",
        "    #print(starting_points[i])\n",
        "    centroidPoints = kMeanClustering(starting_points[i], dataPoints)\n",
        "    centroid_list.append(centroidPoints)\n",
        "    clusteringMetrics.append(clusterEvaluation(centroidPoints, dataPoints))\n",
        "  \n",
        "  # finding the best starting point for each k value\n",
        "  min, temp = float('Inf'), 0\n",
        "  for i in range(len(clusteringMetrics)):\n",
        "    if (clusteringMetrics[i] < min):\n",
        "      min = clusteringMetrics[i]\n",
        "      temp = i\n",
        "  \n",
        "  efficient_centroid[k-2] = centroid_list[temp]\n",
        "  best_k_cluster_metrics[k-2] = clusteringMetrics[temp] \n",
        "\n",
        "  k += 1"
      ],
      "execution_count": null,
      "outputs": []
    },
    {
      "cell_type": "code",
      "metadata": {
        "id": "rBZY-obH7fPs"
      },
      "source": [
        "silhoutte_score_list = []\n",
        "\n",
        "def assignCluster(input, centroid_list):\n",
        "  min_node, min_dist = 0, float('Inf')\n",
        "  for i in range(len(centroid_list)):\n",
        "    temp = [(x1 - x2) ** 2 for (x1,x2) in zip(centroid_list[i], input)]\n",
        "    totalSum = sum(temp)\n",
        "    dist = totalSum ** 0.5\n",
        "    if (dist < min_dist):\n",
        "      min_dist = dist\n",
        "      min_node = i\n",
        "  return min_node\n",
        "\n",
        "for i in range(len(efficient_centroid)):\n",
        "  label = []\n",
        "  for inputs in df.values.tolist():\n",
        "    label.append(assignCluster(inputs, efficient_centroid[i]))\n",
        "  silhoutte_score_list.append(metrics.silhouette_score(df.values.tolist(), label, metric='euclidean'))\n",
        " "
      ],
      "execution_count": null,
      "outputs": []
    },
    {
      "cell_type": "code",
      "metadata": {
        "id": "PdEImGPL_XtK",
        "outputId": "aa1ee2c6-6ef8-4751-91ce-79b2d8a626b2",
        "colab": {
          "base_uri": "https://localhost:8080/",
          "height": 299
        }
      },
      "source": [
        "print(len(silhoutte_score_list))\n",
        "plt.plot([x for x in range(2, 20)], silhoutte_score_list)\n",
        "plt.xlabel('Number of clusters')\n",
        "plt.ylabel('Silhouette Score')\n",
        "plt.xticks([x for x in range(2, 19)])\n",
        "plt.show()"
      ],
      "execution_count": null,
      "outputs": [
        {
          "output_type": "stream",
          "text": [
            "18\n"
          ],
          "name": "stdout"
        },
        {
          "output_type": "display_data",
          "data": {
            "image/png": "[encoded data removed]",
            "text/plain": [
              "<Figure size 432x288 with 1 Axes>"
            ]
          },
          "metadata": {
            "tags": [],
            "needs_background": "light"
          }
        }
      ]
    }
  ]
}