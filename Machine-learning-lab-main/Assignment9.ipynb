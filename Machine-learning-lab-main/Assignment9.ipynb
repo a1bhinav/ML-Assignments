{
  "nbformat": 4,
  "nbformat_minor": 0,
  "metadata": {
    "colab": {
      "name": "Assignment9.ipynb",
      "provenance": [],
      "collapsed_sections": [],
      "authorship_tag": "ABX9TyMlTYaL+sS3OtHURPzd0CJ9",
      "include_colab_link": true
    },
    "kernelspec": {
      "name": "python3",
      "display_name": "Python 3"
    }
  },
  "cells": [
    {
      "cell_type": "markdown",
      "metadata": {
        "id": "view-in-github",
        "colab_type": "text"
      },
      "source": [
        "<a href=\"https://colab.research.google.com/github/hyp3r5pace/Machine-learning-lab/blob/main/Assignment9.ipynb\" target=\"_parent\"><img src=\"https://colab.research.google.com/assets/colab-badge.svg\" alt=\"Open In Colab\"/></a>"
      ]
    },
    {
      "cell_type": "markdown",
      "metadata": {
        "id": "Be7OxTUbPQts"
      },
      "source": [
        "# **Question 1**"
      ]
    },
    {
      "cell_type": "code",
      "metadata": {
        "id": "3Vv08Ju2Ngjh"
      },
      "source": [
        "# importing libraries\n",
        "\n",
        "import numpy as np\n",
        "import pandas as pd\n",
        "import math\n",
        "import random\n",
        "import matplotlib.pyplot as plt\n",
        "from sklearn import datasets"
      ],
      "execution_count": null,
      "outputs": []
    },
    {
      "cell_type": "code",
      "metadata": {
        "id": "YUeQv2BSU6qd",
        "outputId": "61220fa8-9132-49ee-9d32-18515c511b26",
        "colab": {
          "base_uri": "https://localhost:8080/"
        }
      },
      "source": [
        "# load the iris dataset\n",
        "iris = datasets.load_iris()\n",
        "\n",
        "# loading the feature sample dataset into a DataFrame\n",
        "df = pd.DataFrame(iris.data, columns=iris.feature_names)\n",
        "df_class = pd.DataFrame(iris.target, columns=['class'])\n",
        "print(df)"
      ],
      "execution_count": null,
      "outputs": [
        {
          "output_type": "stream",
          "text": [
            "     sepal length (cm)  sepal width (cm)  petal length (cm)  petal width (cm)\n",
            "0                  5.1               3.5                1.4               0.2\n",
            "1                  4.9               3.0                1.4               0.2\n",
            "2                  4.7               3.2                1.3               0.2\n",
            "3                  4.6               3.1                1.5               0.2\n",
            "4                  5.0               3.6                1.4               0.2\n",
            "..                 ...               ...                ...               ...\n",
            "145                6.7               3.0                5.2               2.3\n",
            "146                6.3               2.5                5.0               1.9\n",
            "147                6.5               3.0                5.2               2.0\n",
            "148                6.2               3.4                5.4               2.3\n",
            "149                5.9               3.0                5.1               1.8\n",
            "\n",
            "[150 rows x 4 columns]\n"
          ],
          "name": "stdout"
        }
      ]
    },
    {
      "cell_type": "code",
      "metadata": {
        "id": "46wRahDCVRpB"
      },
      "source": [
        "# create a linearly separable dataset by using only two features\n",
        "df = df.drop(['sepal length (cm)', 'sepal width (cm)'], axis=1)\n",
        "df = df.iloc[50:] # removing the datapoints corresponding to setosa class\n",
        "df_class = df_class.iloc[50:] # removing the class values corresponding to setosa class"
      ],
      "execution_count": null,
      "outputs": []
    },
    {
      "cell_type": "code",
      "metadata": {
        "id": "lbw6utoGdxjc",
        "outputId": "38e2090e-08ab-4e54-b90e-2c7ce9484269",
        "colab": {
          "base_uri": "https://localhost:8080/",
          "height": 279
        }
      },
      "source": [
        "# plotting the linearly separable dataset for visualisation\n",
        "colr = {1:'versicolor', 2:'virginica'}\n",
        "\n",
        "plt.scatter(df['petal length (cm)'].iloc[0:49], df['petal width (cm)'].iloc[0:49], c = 'orange', label=colr[1])\n",
        "plt.scatter(df['petal length (cm)'].iloc[50:99], df['petal width (cm)'].iloc[50:99], c = 'green', label=colr[2])\n",
        "plt.xlabel('Petal length (cm)')\n",
        "plt.ylabel('Petal width (cm)')\n",
        "plt.legend()\n",
        "plt.show()"
      ],
      "execution_count": null,
      "outputs": [
        {
          "output_type": "display_data",
          "data": {
            "image/png": "[encoded data removed]",
            "text/plain": [
              "<Figure size 432x288 with 1 Axes>"
            ]
          },
          "metadata": {
            "tags": [],
            "needs_background": "light"
          }
        }
      ]
    },
    {
      "cell_type": "code",
      "metadata": {
        "id": "rjmmRzKEeOFf",
        "outputId": "fc5bebfb-dc91-4c5d-ad39-26050d31f1cb",
        "colab": {
          "base_uri": "https://localhost:8080/"
        }
      },
      "source": [
        "# performing classification using svm\n",
        "from sklearn import svm\n",
        "from sklearn.model_selection import KFold\n",
        "from sklearn import metrics\n",
        "\n",
        "# joining class labels to the datapoints as a new feature\n",
        "df['class'] = df_class['class']\n",
        "# creating the folds for 5-fold cross validation\n",
        "kf = KFold(n_splits=5,shuffle=True)\n",
        "\n",
        "# 5-fold cross validation, training and testing of the model\n",
        "# considering one by one each of the fold as test set and remaining as train set\n",
        "# evaluating the accuracy in each iteration and finally computing the average of them\n",
        "accuracy, class_wise_accuracy = [], [[],[]]\n",
        "for train_index,test_index in kf.split(df):\n",
        "  train_data = df.iloc[train_index]\n",
        "  # defining the SVM model with kernel as radial basis function\n",
        "  classifier = svm.SVC(kernel='rbf')\n",
        "  # training the SVM model\n",
        "  classifier.fit(train_data[['petal length (cm)','petal width (cm)']], train_data['class'])\n",
        "  test_data = df.iloc[test_index]\n",
        "  # computing the predicted value by the trained model on test set\n",
        "  pred = classifier.predict(test_data[['petal length (cm)', 'petal width (cm)']])\n",
        "  accuracy.append(metrics.accuracy_score(test_data['class'], pred))\n",
        "  temp = test_data['class'].values.tolist()\n",
        "  count1, total1, count2, total2 = 0,0,0,0\n",
        "  for i in range(len(pred)):\n",
        "    if (pred[i] == 1):\n",
        "      total1 += 1\n",
        "      if (temp[i] == 1): count1 += 1\n",
        "    else:\n",
        "      total2 += 1\n",
        "      if (temp[i] == 2): count2 += 1\n",
        "  class_wise_accuracy[0].append(count1/total1)\n",
        "  class_wise_accuracy[1].append(count2/total2)\n",
        "\n",
        "# computing the average accuracy\n",
        "print('Final average accuracy of the SVM classifier: %f' %(sum(accuracy)/len(accuracy)))\n",
        "print('Final average accuracy of the SVM for class versicolour: %f' %(sum(class_wise_accuracy[0])/len(class_wise_accuracy[0])))\n",
        "print('Final average accuracy of the SVM for class virginica: %f' %(sum(class_wise_accuracy[1])/len(class_wise_accuracy[1])))"
      ],
      "execution_count": null,
      "outputs": [
        {
          "output_type": "stream",
          "text": [
            "Final average accuracy of the SVM classifier: 0.950000\n",
            "Final average accuracy of the SVM for class versicolour: 0.949231\n",
            "Final average accuracy of the SVM for class virginica: 0.951429\n"
          ],
          "name": "stdout"
        }
      ]
    },
    {
      "cell_type": "markdown",
      "metadata": {
        "id": "Ztf32wGk5JNm"
      },
      "source": [
        "# **Question 2**"
      ]
    },
    {
      "cell_type": "code",
      "metadata": {
        "id": "tcbRDvsZ5LXE"
      },
      "source": [
        "# importing libraries\n",
        "\n",
        "import numpy as np\n",
        "import pandas as pd\n",
        "import math\n",
        "import random\n",
        "import matplotlib.pyplot as plt\n",
        "from sklearn import datasets"
      ],
      "execution_count": null,
      "outputs": []
    },
    {
      "cell_type": "code",
      "metadata": {
        "id": "pYf1tikbo-CJ",
        "outputId": "8466844a-ff40-4c36-ac66-6cbe3dfb3767",
        "colab": {
          "base_uri": "https://localhost:8080/"
        }
      },
      "source": [
        "# load the iris dataset\n",
        "iris = datasets.load_iris()\n",
        "\n",
        "# loading the feature sample dataset into a DataFrame\n",
        "df = pd.DataFrame(iris.data, columns=iris.feature_names)\n",
        "df_class = pd.DataFrame(iris.target, columns=['class'])\n",
        "print(df)"
      ],
      "execution_count": null,
      "outputs": [
        {
          "output_type": "stream",
          "text": [
            "     sepal length (cm)  sepal width (cm)  petal length (cm)  petal width (cm)\n",
            "0                  5.1               3.5                1.4               0.2\n",
            "1                  4.9               3.0                1.4               0.2\n",
            "2                  4.7               3.2                1.3               0.2\n",
            "3                  4.6               3.1                1.5               0.2\n",
            "4                  5.0               3.6                1.4               0.2\n",
            "..                 ...               ...                ...               ...\n",
            "145                6.7               3.0                5.2               2.3\n",
            "146                6.3               2.5                5.0               1.9\n",
            "147                6.5               3.0                5.2               2.0\n",
            "148                6.2               3.4                5.4               2.3\n",
            "149                5.9               3.0                5.1               1.8\n",
            "\n",
            "[150 rows x 4 columns]\n"
          ],
          "name": "stdout"
        }
      ]
    },
    {
      "cell_type": "code",
      "metadata": {
        "id": "tYLjAOxYGj_S"
      },
      "source": [
        "# splitting in test and train dataset\n",
        "# 80% of the dataset for training and 20% for testing\n",
        "index = random.sample([i for i in range(150)], int(8 * 15))\n",
        "train_set = df.loc[index]\n",
        "train_class_set = df_class.loc[index]\n",
        "test_set = df.loc[set([i for i in range(150)]) - set(index)]\n",
        "test_class_set = df_class.loc[set([i for i in range(150)]) - set(index)]"
      ],
      "execution_count": null,
      "outputs": []
    },
    {
      "cell_type": "code",
      "metadata": {
        "id": "JBjFCWUNpPTH"
      },
      "source": [
        "# radial basis function\n",
        "\n",
        "class radialBasisFunction:\n",
        "  def __init__(self,clusterCenters, betaValues, weights, learningRate):\n",
        "    self.clusterCenters = clusterCenters\n",
        "    self.betaValues = betaValues\n",
        "    self.weights = weights\n",
        "    self.transformedValues = [0 for i in range(len(clusterCenters))]\n",
        "    self.classValue = [0, 0, 0]\n",
        "    self.learningRate = learningRate\n",
        "    self.gradientValues = [[0 for i in range(len(self.clusterCenters) + 1)] for j in range(3)]\n",
        "\n",
        "  def euclideanDistance(self, point_a, point_b):\n",
        "    sum = 0\n",
        "    for i in range(len(point_a)):\n",
        "      sum += (point_a[i] - point_b[i]) ** 2\n",
        "    return (math.sqrt(sum))\n",
        "  \n",
        "  def gaussianKernel(self, clusterCenter, dataValue, betaValue):\n",
        "    return (math.exp(-betaValue * (self.euclideanDistance(clusterCenter, dataValue) ** 2)))\n",
        "  \n",
        "  def higherDimensionTransform(self, dataValue):\n",
        "    for i in range(len(self.transformedValues)):\n",
        "      self.transformedValues[i] = self.gaussianKernel(clusterCenters[i], dataValue, self.betaValues[i])\n",
        "  \n",
        "  def activationFunction(self, sum):\n",
        "    return (1 / (1 + math.exp(-1 * sum)))   # sigmoid function\n",
        "  \n",
        "  def getOutputNodeVal(self):\n",
        "    for i in range(len(self.classValue)):\n",
        "      sum = 0\n",
        "      for j in range(len(self.transformedValues)):\n",
        "        sum += self.transformedValues[j] * self.weights[i][j]\n",
        "      sum += self.weights[i][-1]\n",
        "      self.classValue[i] = self.activationFunction(sum)\n",
        "  \n",
        "  def training(self, trainSet, trainClassSet):\n",
        "    iterations = 0\n",
        "    while (iterations <= 10000):\n",
        "      self.gradientValues = [[0 for i in range(len(self.clusterCenters) + 1)] for j in range(3)]\n",
        "      # forward pass\n",
        "      # transformation to higher dimension datapoints\n",
        "      for i in range(len(trainSet)):\n",
        "        self.higherDimensionTransform(trainSet[i])\n",
        "      \n",
        "        # evaluating the class value\n",
        "        self.getOutputNodeVal()\n",
        "\n",
        "        # backpropagation\n",
        "        # calculating gradients\n",
        "        for j in range(len(self.classValue)):\n",
        "          val = 1 if (trainClassSet[i] == j) else 0\n",
        "          for k in range(len(self.gradientValues[j]) - 1):\n",
        "            self.gradientValues[j][k] += (self.classValue[j] - val) * self.transformedValues[k]\n",
        "          self.gradientValues[j][-1] += (self.classValue[j] - val)\n",
        "        \n",
        "        # updating weights\n",
        "        for j in range(len(self.weights)):\n",
        "          for k in range(len(self.weights[j])):\n",
        "            self.weights[j][k] -= (self.learningRate / len(trainSet)) * self.gradientValues[j][k]\n",
        "        \n",
        "      iterations += 1\n",
        "\n",
        "  # function to evaluate the performance of the RBFN\n",
        "  def evaluation(self, testSet, testClassSet):\n",
        "    numOfMisclassification = 0\n",
        "    for i in range(len(testSet)):\n",
        "      self.higherDimensionTransform(testSet[i])\n",
        "      self.getOutputNodeVal()\n",
        "\n",
        "      index,val = 0, self.classValue[0]\n",
        "      for j in range(1,3):\n",
        "        if (val < self.classValue[j]):\n",
        "          index = j\n",
        "          val = self.classValue[j]\n",
        "      \n",
        "      if (index != testClassSet[i]):\n",
        "          numOfMisclassification += 1\n",
        "    \n",
        "    return (1.0 - (numOfMisclassification / len(testSet)))\n",
        "\n",
        "  # function to calculate classwise evaluation metrics\n",
        "  def classWiseEvaluation(self, testSet, testClassSet):\n",
        "    numOfMisclassification = [0 for i in range(len(self.classValue))]\n",
        "    count = [0 for i in range(len(self.classValue))]\n",
        "    accuracy = [0 for i in range(len(self.classValue))]\n",
        "    for i in range(len(testSet)):\n",
        "      self.higherDimensionTransform(testSet[i])\n",
        "      self.getOutputNodeVal()\n",
        "\n",
        "      index,val = 0, self.classValue[0]\n",
        "      for j in range(1,3):\n",
        "        if (val < self.classValue[j]):\n",
        "          index = j\n",
        "          val = self.classValue[j]\n",
        "      \n",
        "      if (index != testClassSet[i]):\n",
        "          numOfMisclassification[testClassSet[i]] += 1\n",
        "      \n",
        "      count[testClassSet[i]] += 1\n",
        "\n",
        "      for j in range(len(self.classValue)):\n",
        "        if (count[j] != 0):\n",
        "          accuracy[j] = (1.0 - (numOfMisclassification[j] / count[j]))\n",
        "        else:\n",
        "          accuracy[j] = -1\n",
        "    \n",
        "    return accuracy\n",
        "\n"
      ],
      "execution_count": null,
      "outputs": []
    },
    {
      "cell_type": "code",
      "metadata": {
        "id": "bpDMi8VGFHVO",
        "outputId": "056e30cb-8ac6-4776-ae9c-7e27129dd10d",
        "colab": {
          "base_uri": "https://localhost:8080/"
        }
      },
      "source": [
        "training_accuracy, testing_accuracy = 0,0\n",
        "# cluster center values copied from previous assignment\n",
        "# considering number of clusters = 7\n",
        "clusterCenters = [[6.229729729729731, 2.8513513513513513, 4.767567567567568, 1.5729729729729722], [5.4, 3.8923076923076922, 1.5076923076923079, 0.2692307692307693], [5.529629629629629, 2.6222222222222222, 3.940740740740741, 1.2185185185185188], [6.529166666666666, 3.0583333333333336, 5.508333333333333, 2.1624999999999996], [5.040000000000001, 3.4499999999999993, 1.4749999999999999, 0.27], [7.475000000000001, 3.125, 6.3, 2.0500000000000003], [4.664705882352941, 3.047058823529412, 1.4117647058823528, 0.20000000000000004]]\n",
        "betaValues = [0.5 for i in range(len(clusterCenters))]\n",
        "weights = [[0 for i in range(len(clusterCenters) + 1)] for j in range(3)]\n",
        "className = {0:'Setosa', 1: 'Versicolor', 2: 'Virginica'}\n",
        "\n",
        "# creating a instance of the RBFNN\n",
        "RBFNN = radialBasisFunction(clusterCenters, betaValues, weights, 0.03)\n",
        "\n",
        "# training the RBFNN\n",
        "RBFNN.training(train_set.values.tolist(), [x for i in train_class_set.values.tolist() for x in i])\n",
        "training_accuracy = RBFNN.evaluation(train_set.values.tolist(), [x for i in train_class_set.values.tolist() for x in i])\n",
        "trainingClassWiseAccuracy = RBFNN.classWiseEvaluation(train_set.values.tolist(), [x for i in train_class_set.values.tolist() for x in i])\n",
        "print('Class wise training accuracy:')\n",
        "for i in range(3):\n",
        "  print('Training accuracy for class %s: %f' %(className[i], trainingClassWiseAccuracy[i] * 100.0))\n",
        "print('\\n\\n')\n",
        "# testing the RBFNN\n",
        "testing_accuracy = RBFNN.evaluation(test_set.values.tolist(), [x for i in test_class_set.values.tolist() for x in i])\n",
        "testingClassWiseAccuracy = RBFNN.classWiseEvaluation(test_set.values.tolist(), [x for i in test_class_set.values.tolist() for x in i])\n",
        "print('Class wise testing accuracy:')\n",
        "for i in range(3):\n",
        "  print('Testing accuracy for class %s: %f' %(className[i], testingClassWiseAccuracy[i] * 100.0))\n",
        "print('\\n\\n')\n",
        "print('Overall Training Set accuracy: %f' %(training_accuracy * 100.0))\n",
        "print('Overall Test set accuracy %f' %(testing_accuracy * 100.0))\n"
      ],
      "execution_count": null,
      "outputs": [
        {
          "output_type": "stream",
          "text": [
            "Class wise training accuracy:\n",
            "Training accuracy for class Setosa: 100.000000\n",
            "Training accuracy for class Versicolor: 97.777778\n",
            "Training accuracy for class Virginica: 85.714286\n",
            "\n",
            "\n",
            "\n",
            "Class wise testing accuracy:\n",
            "Testing accuracy for class Setosa: 100.000000\n",
            "Testing accuracy for class Versicolor: 80.000000\n",
            "Testing accuracy for class Virginica: 93.333333\n",
            "\n",
            "\n",
            "\n",
            "Overall Training Set accuracy: 95.000000\n",
            "Overall Test set accuracy 93.333333\n"
          ],
          "name": "stdout"
        }
      ]
    }
  ]
}